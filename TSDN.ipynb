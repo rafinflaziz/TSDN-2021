{
  "nbformat": 4,
  "nbformat_minor": 0,
  "metadata": {
    "kernelspec": {
      "display_name": "Python 3",
      "language": "python",
      "name": "python3"
    },
    "language_info": {
      "codemirror_mode": {
        "name": "ipython",
        "version": 3
      },
      "file_extension": ".py",
      "mimetype": "text/x-python",
      "name": "python",
      "nbconvert_exporter": "python",
      "pygments_lexer": "ipython3",
      "version": "3.7.6"
    },
    "colab": {
      "name": "TSDN.ipynb",
      "provenance": [],
      "collapsed_sections": [
        "UjHtBmBKElYT",
        "Nu3BqTNb4Fbd",
        "LAIPLsHLElbr",
        "Y5ALa27pElb_",
        "Fdnm5Q8oElcC",
        "jES8xhIAElcc"
      ]
    }
  },
  "cells": [
    {
      "cell_type": "code",
      "metadata": {
        "id": "6E7WLzy2ElX_"
      },
      "source": [
        "import pandas as pd\n",
        "import numpy as np\n",
        "import matplotlib.pyplot as plt\n",
        "import seaborn as sns"
      ],
      "execution_count": null,
      "outputs": []
    },
    {
      "cell_type": "code",
      "metadata": {
        "id": "apcjQTvz1tcg"
      },
      "source": [
        "# from google.colab import drive\n",
        "# drive.mount('/content/drive')"
      ],
      "execution_count": null,
      "outputs": []
    },
    {
      "cell_type": "markdown",
      "metadata": {
        "id": "UjHtBmBKElYT"
      },
      "source": [
        "## Import Data"
      ]
    },
    {
      "cell_type": "code",
      "metadata": {
        "id": "QcZgSRbnElYi",
        "colab": {
          "base_uri": "https://localhost:8080/",
          "height": 423
        },
        "outputId": "f8dcf8d4-da53-43d7-c4df-d4d4e9e89968"
      },
      "source": [
        "import glob\n",
        "\n",
        "path = r'mancanegara'\n",
        "all_files = glob.glob(path + \"/*.csv\")\n",
        "\n",
        "li = []\n",
        "\n",
        "for filename in all_files:\n",
        "    df = pd.read_csv(filename, index_col=None, header=0)\n",
        "    li.append(df)\n",
        "\n",
        "mancanegara = pd.concat(li, axis=0, ignore_index=True)\n",
        "mancanegara"
      ],
      "execution_count": null,
      "outputs": [
        {
          "output_type": "execute_result",
          "data": {
            "text/html": [
              "<div>\n",
              "<style scoped>\n",
              "    .dataframe tbody tr th:only-of-type {\n",
              "        vertical-align: middle;\n",
              "    }\n",
              "\n",
              "    .dataframe tbody tr th {\n",
              "        vertical-align: top;\n",
              "    }\n",
              "\n",
              "    .dataframe thead th {\n",
              "        text-align: right;\n",
              "    }\n",
              "</style>\n",
              "<table border=\"1\" class=\"dataframe\">\n",
              "  <thead>\n",
              "    <tr style=\"text-align: right;\">\n",
              "      <th></th>\n",
              "      <th>tahun</th>\n",
              "      <th>bulan</th>\n",
              "      <th>destinasi_wisata</th>\n",
              "      <th>jumlah</th>\n",
              "    </tr>\n",
              "  </thead>\n",
              "  <tbody>\n",
              "    <tr>\n",
              "      <th>0</th>\n",
              "      <td>2020</td>\n",
              "      <td>9</td>\n",
              "      <td>Taman Impian Jaya Ancol</td>\n",
              "      <td>0</td>\n",
              "    </tr>\n",
              "    <tr>\n",
              "      <th>1</th>\n",
              "      <td>2020</td>\n",
              "      <td>9</td>\n",
              "      <td>Taman Mini Indonesia Indah</td>\n",
              "      <td>0</td>\n",
              "    </tr>\n",
              "    <tr>\n",
              "      <th>2</th>\n",
              "      <td>2020</td>\n",
              "      <td>9</td>\n",
              "      <td>Taman Margasatwa Ragunan</td>\n",
              "      <td>43</td>\n",
              "    </tr>\n",
              "    <tr>\n",
              "      <th>3</th>\n",
              "      <td>2020</td>\n",
              "      <td>9</td>\n",
              "      <td>Monumen Nasional</td>\n",
              "      <td>0</td>\n",
              "    </tr>\n",
              "    <tr>\n",
              "      <th>4</th>\n",
              "      <td>2020</td>\n",
              "      <td>9</td>\n",
              "      <td>Museum Nasional</td>\n",
              "      <td>0</td>\n",
              "    </tr>\n",
              "    <tr>\n",
              "      <th>...</th>\n",
              "      <td>...</td>\n",
              "      <td>...</td>\n",
              "      <td>...</td>\n",
              "      <td>...</td>\n",
              "    </tr>\n",
              "    <tr>\n",
              "      <th>235</th>\n",
              "      <td>2020</td>\n",
              "      <td>7</td>\n",
              "      <td>PBB Setu babakan</td>\n",
              "      <td>0</td>\n",
              "    </tr>\n",
              "    <tr>\n",
              "      <th>236</th>\n",
              "      <td>2020</td>\n",
              "      <td>7</td>\n",
              "      <td>Museum Prasasti</td>\n",
              "      <td>0</td>\n",
              "    </tr>\n",
              "    <tr>\n",
              "      <th>237</th>\n",
              "      <td>2020</td>\n",
              "      <td>7</td>\n",
              "      <td>Planetarium</td>\n",
              "      <td>0</td>\n",
              "    </tr>\n",
              "    <tr>\n",
              "      <th>238</th>\n",
              "      <td>2020</td>\n",
              "      <td>7</td>\n",
              "      <td>Rumah si Pitung</td>\n",
              "      <td>1</td>\n",
              "    </tr>\n",
              "    <tr>\n",
              "      <th>239</th>\n",
              "      <td>2020</td>\n",
              "      <td>7</td>\n",
              "      <td>Kawasan Kota Tua</td>\n",
              "      <td>88</td>\n",
              "    </tr>\n",
              "  </tbody>\n",
              "</table>\n",
              "<p>240 rows × 4 columns</p>\n",
              "</div>"
            ],
            "text/plain": [
              "     tahun  bulan            destinasi_wisata  jumlah\n",
              "0     2020      9     Taman Impian Jaya Ancol       0\n",
              "1     2020      9  Taman Mini Indonesia Indah       0\n",
              "2     2020      9    Taman Margasatwa Ragunan      43\n",
              "3     2020      9            Monumen Nasional       0\n",
              "4     2020      9             Museum Nasional       0\n",
              "..     ...    ...                         ...     ...\n",
              "235   2020      7            PBB Setu babakan       0\n",
              "236   2020      7             Museum Prasasti       0\n",
              "237   2020      7                 Planetarium       0\n",
              "238   2020      7             Rumah si Pitung       1\n",
              "239   2020      7            Kawasan Kota Tua      88\n",
              "\n",
              "[240 rows x 4 columns]"
            ]
          },
          "metadata": {},
          "execution_count": 4
        }
      ]
    },
    {
      "cell_type": "code",
      "metadata": {
        "id": "_dhY21U_ElZg",
        "colab": {
          "base_uri": "https://localhost:8080/",
          "height": 423
        },
        "outputId": "4f03f6ae-3a9b-4f22-8c3c-c91934f86bad"
      },
      "source": [
        "path = r'nusantara'\n",
        "all_files = glob.glob(path + \"/*.csv\")\n",
        "\n",
        "li = []\n",
        "\n",
        "for filename in all_files:\n",
        "    df = pd.read_csv(filename, index_col=None, header=0)\n",
        "    li.append(df)\n",
        "\n",
        "nusantara = pd.concat(li, axis=0, ignore_index=True)\n",
        "nusantara"
      ],
      "execution_count": null,
      "outputs": [
        {
          "output_type": "execute_result",
          "data": {
            "text/html": [
              "<div>\n",
              "<style scoped>\n",
              "    .dataframe tbody tr th:only-of-type {\n",
              "        vertical-align: middle;\n",
              "    }\n",
              "\n",
              "    .dataframe tbody tr th {\n",
              "        vertical-align: top;\n",
              "    }\n",
              "\n",
              "    .dataframe thead th {\n",
              "        text-align: right;\n",
              "    }\n",
              "</style>\n",
              "<table border=\"1\" class=\"dataframe\">\n",
              "  <thead>\n",
              "    <tr style=\"text-align: right;\">\n",
              "      <th></th>\n",
              "      <th>tahun</th>\n",
              "      <th>bulan</th>\n",
              "      <th>destinasi_wisata</th>\n",
              "      <th>jumlah</th>\n",
              "    </tr>\n",
              "  </thead>\n",
              "  <tbody>\n",
              "    <tr>\n",
              "      <th>0</th>\n",
              "      <td>2020</td>\n",
              "      <td>4</td>\n",
              "      <td>Taman Impian Jaya Ancol</td>\n",
              "      <td>0.0</td>\n",
              "    </tr>\n",
              "    <tr>\n",
              "      <th>1</th>\n",
              "      <td>2020</td>\n",
              "      <td>4</td>\n",
              "      <td>Taman Mini Indonesia Indah</td>\n",
              "      <td>0.0</td>\n",
              "    </tr>\n",
              "    <tr>\n",
              "      <th>2</th>\n",
              "      <td>2020</td>\n",
              "      <td>4</td>\n",
              "      <td>Taman Margasatwa Ragunan</td>\n",
              "      <td>0.0</td>\n",
              "    </tr>\n",
              "    <tr>\n",
              "      <th>3</th>\n",
              "      <td>2020</td>\n",
              "      <td>4</td>\n",
              "      <td>Monumen Nasional</td>\n",
              "      <td>0.0</td>\n",
              "    </tr>\n",
              "    <tr>\n",
              "      <th>4</th>\n",
              "      <td>2020</td>\n",
              "      <td>4</td>\n",
              "      <td>Museum Nasional</td>\n",
              "      <td>0.0</td>\n",
              "    </tr>\n",
              "    <tr>\n",
              "      <th>...</th>\n",
              "      <td>...</td>\n",
              "      <td>...</td>\n",
              "      <td>...</td>\n",
              "      <td>...</td>\n",
              "    </tr>\n",
              "    <tr>\n",
              "      <th>235</th>\n",
              "      <td>2020</td>\n",
              "      <td>7</td>\n",
              "      <td>PBB Setu babakan</td>\n",
              "      <td>1548.0</td>\n",
              "    </tr>\n",
              "    <tr>\n",
              "      <th>236</th>\n",
              "      <td>2020</td>\n",
              "      <td>7</td>\n",
              "      <td>Museum Prasasti</td>\n",
              "      <td>194.0</td>\n",
              "    </tr>\n",
              "    <tr>\n",
              "      <th>237</th>\n",
              "      <td>2020</td>\n",
              "      <td>7</td>\n",
              "      <td>Planetarium</td>\n",
              "      <td>0.0</td>\n",
              "    </tr>\n",
              "    <tr>\n",
              "      <th>238</th>\n",
              "      <td>2020</td>\n",
              "      <td>7</td>\n",
              "      <td>Rumah si Pitung</td>\n",
              "      <td>1722.0</td>\n",
              "    </tr>\n",
              "    <tr>\n",
              "      <th>239</th>\n",
              "      <td>2020</td>\n",
              "      <td>7</td>\n",
              "      <td>Kawasan Kota Tua</td>\n",
              "      <td>3925.0</td>\n",
              "    </tr>\n",
              "  </tbody>\n",
              "</table>\n",
              "<p>240 rows × 4 columns</p>\n",
              "</div>"
            ],
            "text/plain": [
              "     tahun  bulan            destinasi_wisata  jumlah\n",
              "0     2020      4     Taman Impian Jaya Ancol     0.0\n",
              "1     2020      4  Taman Mini Indonesia Indah     0.0\n",
              "2     2020      4    Taman Margasatwa Ragunan     0.0\n",
              "3     2020      4            Monumen Nasional     0.0\n",
              "4     2020      4             Museum Nasional     0.0\n",
              "..     ...    ...                         ...     ...\n",
              "235   2020      7            PBB Setu babakan  1548.0\n",
              "236   2020      7             Museum Prasasti   194.0\n",
              "237   2020      7                 Planetarium     0.0\n",
              "238   2020      7             Rumah si Pitung  1722.0\n",
              "239   2020      7            Kawasan Kota Tua  3925.0\n",
              "\n",
              "[240 rows x 4 columns]"
            ]
          },
          "metadata": {},
          "execution_count": 5
        }
      ]
    },
    {
      "cell_type": "markdown",
      "metadata": {
        "id": "x92M2XiIElZj"
      },
      "source": [
        "## Kolom Baru: Wilayah dan Jenis"
      ]
    },
    {
      "cell_type": "code",
      "metadata": {
        "id": "1URUYxxoElZl"
      },
      "source": [
        "# Wilayah untuk wisatawan mancanegara\n",
        "conditions = []\n",
        "dest_global = mancanegara['destinasi_wisata'].unique()\n",
        "dest_global\n",
        "\n",
        "for d in dest_global:\n",
        "    conditions.append(mancanegara['destinasi_wisata'] == d)\n",
        "\n",
        "# Choices sudah disesuaikan berdasarkan urutan pada dest_global\n",
        "choices_wilayah = [\"Jakarta Utara\", \"Jakarta Timur\",\n",
        "           \"Jakarta Selatan\", \"Jakarta Pusat\", \"Jakarta Pusat\",\n",
        "           \"Jakarta Selatan\", \"Jakarta Barat\",\n",
        "           \"Jakarta Barat\", \"Jakarta Utara\", \"Jakarta Barat\",\n",
        "           \"Jakarta Barat\", \"Jakarta Pusat\", \"Jakarta Utara\",\n",
        "           \"Jakarta Utara\", \"Jakarta Utara\", \"Jakarta Selatan\",\n",
        "           \"Jakarta Pusat\", \"Jakarta Pusat\", \"Jakarta Utara\",\n",
        "           \"Jakarta Barat\"\n",
        "          ]\n",
        "\n",
        "choices_jenis = [\"Taman Wisata\", \"Taman Wisata\",\n",
        "                \"Kebun Binatang\", \"Monumen\", \"Museum\",\n",
        "                \"Museum\", \"Museum\",\n",
        "                \"Museum\", \"Museum\", \"Museum\",\n",
        "                \"Museum\", \"Museum\", \"Museum\",\n",
        "                \"Pelabuhan\", \"Pulau\", \"Kawasan Historis\",\n",
        "                \"Museum\", \"Planetarium\", \"Kawasan Historis\",\n",
        "                \"Kawasan Historis\"]\n",
        "\n",
        "mancanegara['wilayah'] = np.select(conditions, choices_wilayah)\n",
        "mancanegara['jenis'] = np.select(conditions, choices_jenis)"
      ],
      "execution_count": null,
      "outputs": []
    },
    {
      "cell_type": "code",
      "metadata": {
        "id": "QeERHsxxElZ1"
      },
      "source": [
        "# Wilayah untuk wisatawan nusantara\n",
        "conditions = []\n",
        "\n",
        "dest_local = nusantara['destinasi_wisata'].unique()\n",
        "dest_local\n",
        "\n",
        "for d in dest_local:\n",
        "    conditions.append(nusantara['destinasi_wisata'] == d)\n",
        "    \n",
        "# Choices sudah disesuaikan berdasarkan urutan pada dest_local\n",
        "choices_wilayah = [\"Jakarta Utara\", \"Jakarta Timur\",\n",
        "           \"Jakarta Selatan\", \"Jakarta Pusat\", \"Jakarta Pusat\",\n",
        "           \"Jakarta Selatan\", \"Jakarta Barat\",\n",
        "           \"Jakarta Barat\", \"Jakarta Utara\", \"Jakarta Barat\",\n",
        "           \"Jakarta Barat\", \"Jakarta Pusat\", \"Jakarta Utara\",\n",
        "           \"Jakarta Utara\", \"Jakarta Utara\", \"Jakarta Selatan\",\n",
        "           \"Jakarta Pusat\", \"Jakarta Pusat\", \"Jakarta Utara\",\n",
        "           \"Jakarta Barat\", \"Jakarta Pusat\"\n",
        "          ]\n",
        "\n",
        "choices_jenis = [\"Taman Wisata\", \"Taman Wisata\",\n",
        "                \"Kebun Binatang\", \"Monumen\", \"Museum\",\n",
        "                \"Museum\", \"Museum\",\n",
        "                \"Museum\", \"Museum\", \"Museum\",\n",
        "                \"Museum\", \"Museum\", \"Museum\",\n",
        "                \"Pelabuhan\", \"Pulau\", \"Kawasan Historis\",\n",
        "                \"Museum\", \"Planetarium\", \"Kawasan Historis\",\n",
        "                \"Kawasan Historis\", \"Museum\"]\n",
        "\n",
        "nusantara['wilayah'] = np.select(conditions, choices_wilayah)\n",
        "nusantara['jenis'] = np.select(conditions, choices_jenis)"
      ],
      "execution_count": null,
      "outputs": []
    },
    {
      "cell_type": "markdown",
      "metadata": {
        "id": "I-Ry1hvVElaG"
      },
      "source": [
        "### Jumlah Wisatawan Per Bulan"
      ]
    },
    {
      "cell_type": "code",
      "metadata": {
        "id": "3lbaauUYElaL",
        "colab": {
          "base_uri": "https://localhost:8080/",
          "height": 301
        },
        "outputId": "ad9f9104-a176-4472-d945-88054cfdee33"
      },
      "source": [
        "global_monthly = mancanegara.groupby(\"bulan\")['jumlah'].agg(\"sum\")\n",
        "sns.barplot(x=global_monthly.index, y=global_monthly.values)\n",
        "plt.title(\"Wisatawan Mancanegara\")\n",
        "plt.show()"
      ],
      "execution_count": null,
      "outputs": [
        {
          "output_type": "display_data",
          "data": {
            "image/png": "[encoded data removed]",
            "text/plain": [
              "<Figure size 432x288 with 1 Axes>"
            ]
          },
          "metadata": {}
        }
      ]
    },
    {
      "cell_type": "code",
      "metadata": {
        "id": "7AFTs76DElap",
        "colab": {
          "base_uri": "https://localhost:8080/",
          "height": 301
        },
        "outputId": "4ed9af64-ed5f-4f9c-b1eb-e5fddc0efc2f"
      },
      "source": [
        "national_monthly = nusantara.groupby(\"bulan\")['jumlah'].agg(\"sum\")\n",
        "sns.barplot(x=national_monthly.index, y=national_monthly.values)\n",
        "plt.title(\"Wisatawan Nusantara\")\n",
        "plt.show()"
      ],
      "execution_count": null,
      "outputs": [
        {
          "output_type": "display_data",
          "data": {
            "image/png": "[encoded data removed]",
            "text/plain": [
              "<Figure size 432x288 with 1 Axes>"
            ]
          },
          "metadata": {}
        }
      ]
    },
    {
      "cell_type": "markdown",
      "metadata": {
        "id": "I73TNwWqElay"
      },
      "source": [
        "## Destinasi Pilihan di Tahun 2020"
      ]
    },
    {
      "cell_type": "code",
      "metadata": {
        "id": "emhhlR5yEla2",
        "colab": {
          "base_uri": "https://localhost:8080/",
          "height": 294
        },
        "outputId": "24ef8aa7-10ea-430a-fab4-582e8a8e6a0d"
      },
      "source": [
        "global_monthly_dest = mancanegara.groupby(\"destinasi_wisata\")[\"jumlah\"].agg(\"sum\")\n",
        "sns.barplot(x=global_monthly_dest.values, y=global_monthly_dest.index)\n",
        "plt.title(\"Wisatawan Mancanegara\")\n",
        "plt.xlim(0, 1e6)\n",
        "plt.show()"
      ],
      "execution_count": null,
      "outputs": [
        {
          "output_type": "display_data",
          "data": {
            "image/png": "[encoded data removed]",
            "text/plain": [
              "<Figure size 432x288 with 1 Axes>"
            ]
          },
          "metadata": {
            "needs_background": "light"
          }
        }
      ]
    },
    {
      "cell_type": "code",
      "metadata": {
        "id": "SVcYPi6wEla5",
        "colab": {
          "base_uri": "https://localhost:8080/",
          "height": 294
        },
        "outputId": "0519fb68-af98-44f9-e866-972d026009d2"
      },
      "source": [
        "national_monthly_dest = nusantara.groupby(\"destinasi_wisata\")[\"jumlah\"].agg(\"sum\")\n",
        "sns.barplot(x=national_monthly_dest.values, y=national_monthly_dest.index)\n",
        "plt.title(\"Wisatawan Nusantara\")\n",
        "plt.show()"
      ],
      "execution_count": null,
      "outputs": [
        {
          "output_type": "display_data",
          "data": {
            "image/png": "[encoded data removed]",
            "text/plain": [
              "<Figure size 432x288 with 1 Axes>"
            ]
          },
          "metadata": {
            "needs_background": "light"
          }
        }
      ]
    },
    {
      "cell_type": "markdown",
      "metadata": {
        "id": "gjyE1ZuI220L"
      },
      "source": [
        "Dari grafik di atas, terdapat perbedaan karakteristik antara **wisatawan mancanegara** dengan **nusantara** dalam memilih jenis destinasi wisata.\n",
        "\n",
        "Untuk lebih jelasnya, perhatikan grafik di bawah ini."
      ]
    },
    {
      "cell_type": "markdown",
      "metadata": {
        "id": "h2Oenl8XEla8"
      },
      "source": [
        "## Destinasi Berdasarkan Jenis"
      ]
    },
    {
      "cell_type": "code",
      "metadata": {
        "id": "VIecDIqKEla9",
        "colab": {
          "base_uri": "https://localhost:8080/",
          "height": 284
        },
        "outputId": "9c4d4dd9-dd13-4e39-e3c6-2bce85f7356a"
      },
      "source": [
        "global_monthly_loc = mancanegara.groupby(\"jenis\")['jumlah'].agg(\"sum\")\n",
        "sns.barplot(y=global_monthly_loc.index, x=global_monthly_loc.values)\n",
        "plt.title(\"Wisatawan Mancanegara\")\n",
        "plt.show()"
      ],
      "execution_count": null,
      "outputs": [
        {
          "output_type": "display_data",
          "data": {
            "image/png": "[encoded data removed]",
            "text/plain": [
              "<Figure size 432x288 with 1 Axes>"
            ]
          },
          "metadata": {}
        }
      ]
    },
    {
      "cell_type": "code",
      "metadata": {
        "id": "pvF2XEj-ElbE",
        "colab": {
          "base_uri": "https://localhost:8080/",
          "height": 297
        },
        "outputId": "4a0c6f5d-6f2f-4374-93c9-3a4ed5970003"
      },
      "source": [
        "national_monthly_loc = nusantara.groupby(\"jenis\")['jumlah'].agg(\"sum\")\n",
        "sns.barplot(y=national_monthly_loc.index, x=national_monthly_loc.values)\n",
        "plt.title(\"Wisatawan Nusantara\")\n",
        "plt.show()"
      ],
      "execution_count": null,
      "outputs": [
        {
          "output_type": "display_data",
          "data": {
            "image/png": "[encoded data removed]",
            "text/plain": [
              "<Figure size 432x288 with 1 Axes>"
            ]
          },
          "metadata": {}
        }
      ]
    },
    {
      "cell_type": "markdown",
      "metadata": {
        "id": "p85MyM5N3WXE"
      },
      "source": [
        "Dapat dilihat bahwa **wisatawan mancanegara** lebih sering mengunjungi destinasi wisata berjenis **museum dan kawasan historis**, sedangkan **wisatawan nusantara** lebih sering mengunjungi destinasi wisata berjenis **taman wisata**."
      ]
    },
    {
      "cell_type": "markdown",
      "metadata": {
        "id": "ZfLFp9ztElbX"
      },
      "source": [
        "## Destinasi Berdasarkan Kota"
      ]
    },
    {
      "cell_type": "code",
      "metadata": {
        "scrolled": false,
        "id": "nNubPs2KElbY",
        "colab": {
          "base_uri": "https://localhost:8080/",
          "height": 301
        },
        "outputId": "1bc2a5a5-5476-4665-cff1-ddc726ba5d0e"
      },
      "source": [
        "global_monthly_loc = mancanegara.groupby(\"wilayah\")['jumlah'].agg(\"sum\")\n",
        "sns.barplot(x=global_monthly_loc.index, y=global_monthly_loc.values)\n",
        "plt.title(\"Wisatawan Mancanegara\")\n",
        "plt.show()"
      ],
      "execution_count": null,
      "outputs": [
        {
          "output_type": "display_data",
          "data": {
            "image/png": "[encoded data removed]",
            "text/plain": [
              "<Figure size 432x288 with 1 Axes>"
            ]
          },
          "metadata": {}
        }
      ]
    },
    {
      "cell_type": "code",
      "metadata": {
        "scrolled": true,
        "id": "P_y68xQaElbZ",
        "colab": {
          "base_uri": "https://localhost:8080/",
          "height": 301
        },
        "outputId": "89515652-101b-4eb7-9118-09a3883eb6be"
      },
      "source": [
        "national_monthly_loc = nusantara.groupby(\"wilayah\")['jumlah'].agg(\"sum\")\n",
        "sns.barplot(x=national_monthly_loc.index, y=national_monthly_loc.values)\n",
        "plt.title(\"Wisatawan Nusantara\")\n",
        "plt.show()"
      ],
      "execution_count": null,
      "outputs": [
        {
          "output_type": "display_data",
          "data": {
            "image/png": "[encoded data removed]",
            "text/plain": [
              "<Figure size 432x288 with 1 Axes>"
            ]
          },
          "metadata": {}
        }
      ]
    },
    {
      "cell_type": "markdown",
      "metadata": {
        "id": "Nu3BqTNb4Fbd"
      },
      "source": [
        "## Import Data Hotel"
      ]
    },
    {
      "cell_type": "code",
      "metadata": {
        "id": "otqburyGElbb",
        "colab": {
          "base_uri": "https://localhost:8080/"
        },
        "outputId": "425bd976-b072-4c96-8997-ef3a868eab53"
      },
      "source": [
        "hotel_stars = pd.read_csv(\"data-jumlah-hotel-berbintang-dan-non-bintang-jakarta-tahun-2020.csv\")\n",
        "hotel_stars['golongan'] = hotel_stars['golongan'].str.strip().str.replace(\"Meati\", \"Melati\")\n",
        "hotel_stars"
      ],
      "execution_count": null,
      "outputs": [
        {
          "output_type": "execute_result",
          "data": {
            "text/html": [
              "<div>\n",
              "<style scoped>\n",
              "    .dataframe tbody tr th:only-of-type {\n",
              "        vertical-align: middle;\n",
              "    }\n",
              "\n",
              "    .dataframe tbody tr th {\n",
              "        vertical-align: top;\n",
              "    }\n",
              "\n",
              "    .dataframe thead th {\n",
              "        text-align: right;\n",
              "    }\n",
              "</style>\n",
              "<table border=\"1\" class=\"dataframe\">\n",
              "  <thead>\n",
              "    <tr style=\"text-align: right;\">\n",
              "      <th></th>\n",
              "      <th>nama_usaha</th>\n",
              "      <th>jenis</th>\n",
              "      <th>golongan</th>\n",
              "      <th>jumlah_kamar</th>\n",
              "      <th>alamat</th>\n",
              "      <th>wilayah</th>\n",
              "    </tr>\n",
              "  </thead>\n",
              "  <tbody>\n",
              "    <tr>\n",
              "      <th>0</th>\n",
              "      <td>CIPUTRA</td>\n",
              "      <td>Hotel Bintang</td>\n",
              "      <td>Bintang 4</td>\n",
              "      <td>333</td>\n",
              "      <td>Jl. Letjend S. Parman</td>\n",
              "      <td>Jakarta Barat</td>\n",
              "    </tr>\n",
              "    <tr>\n",
              "      <th>1</th>\n",
              "      <td>GRAND TROPIC SUITES HOTEL</td>\n",
              "      <td>Hotel Bintang</td>\n",
              "      <td>Bintang 4</td>\n",
              "      <td>195</td>\n",
              "      <td>Jl. Letjen S. Parman Kav. 3 RT. 007/02</td>\n",
              "      <td>Jakarta Barat</td>\n",
              "    </tr>\n",
              "    <tr>\n",
              "      <th>2</th>\n",
              "      <td>MENARA PENINSULA</td>\n",
              "      <td>Hotel Bintang</td>\n",
              "      <td>Bintang 4</td>\n",
              "      <td>400</td>\n",
              "      <td>Jl. Letjen S. Parman  78</td>\n",
              "      <td>Jakarta Barat</td>\n",
              "    </tr>\n",
              "    <tr>\n",
              "      <th>3</th>\n",
              "      <td>HOTEL SANTIKA PREMIERE JAKARTA</td>\n",
              "      <td>Hotel Bintang</td>\n",
              "      <td>Bintang 4</td>\n",
              "      <td>275</td>\n",
              "      <td>Jl. Aipda KS. Tubun No. 7</td>\n",
              "      <td>Jakarta Barat</td>\n",
              "    </tr>\n",
              "    <tr>\n",
              "      <th>4</th>\n",
              "      <td>TWIN PLAZA</td>\n",
              "      <td>Hotel Bintang</td>\n",
              "      <td>Bintang 4</td>\n",
              "      <td>211</td>\n",
              "      <td>Jl. Letjen S. Parman Kav. 93-94</td>\n",
              "      <td>Jakarta Barat</td>\n",
              "    </tr>\n",
              "    <tr>\n",
              "      <th>...</th>\n",
              "      <td>...</td>\n",
              "      <td>...</td>\n",
              "      <td>...</td>\n",
              "      <td>...</td>\n",
              "      <td>...</td>\n",
              "      <td>...</td>\n",
              "    </tr>\n",
              "    <tr>\n",
              "      <th>421</th>\n",
              "      <td>HOLIDAY INN JAKARTA KEMAYORAN</td>\n",
              "      <td>Hotel Bintang</td>\n",
              "      <td>Bintang</td>\n",
              "      <td>257</td>\n",
              "      <td>Kompleks Rukan Puri Mutiara Blok D No. 107-108...</td>\n",
              "      <td>Jakarta Utara</td>\n",
              "    </tr>\n",
              "    <tr>\n",
              "      <th>422</th>\n",
              "      <td>IBIS STYLE HOTEL MANGGA DUA SQUARE-JAKARTA</td>\n",
              "      <td>Hotel Bintang</td>\n",
              "      <td>Bintang</td>\n",
              "      <td>210</td>\n",
              "      <td>Mangga Dua Square 2nd Floor, P2 Jl. Gunung Sah...</td>\n",
              "      <td>Jakarta Utara</td>\n",
              "    </tr>\n",
              "    <tr>\n",
              "      <th>423</th>\n",
              "      <td>SANTIKA KELAPA GADING</td>\n",
              "      <td>Hotel Bintang</td>\n",
              "      <td>Bintang</td>\n",
              "      <td>151</td>\n",
              "      <td>Jl. Raya Kelapa Nias Blok. HF 3 Sport Mall</td>\n",
              "      <td>Jakarta Utara</td>\n",
              "    </tr>\n",
              "    <tr>\n",
              "      <th>424</th>\n",
              "      <td>OZONE HOTEL</td>\n",
              "      <td>Hotel Melati</td>\n",
              "      <td>Melati 3</td>\n",
              "      <td>98</td>\n",
              "      <td>Jl. Pantai Indah Utara III PIK</td>\n",
              "      <td>Jakarta Utara</td>\n",
              "    </tr>\n",
              "    <tr>\n",
              "      <th>425</th>\n",
              "      <td>D'PRIMAHOTEL</td>\n",
              "      <td>Hotel Melati</td>\n",
              "      <td>Melati 3</td>\n",
              "      <td>54</td>\n",
              "      <td>Jl. Gunung Sahari Raya Blok. A No. 1,2,3,26 &amp; 27</td>\n",
              "      <td>Jakarta Utara</td>\n",
              "    </tr>\n",
              "  </tbody>\n",
              "</table>\n",
              "<p>426 rows × 6 columns</p>\n",
              "</div>"
            ],
            "text/plain": [
              "                                     nama_usaha  ...        wilayah\n",
              "0                                       CIPUTRA  ...  Jakarta Barat\n",
              "1                     GRAND TROPIC SUITES HOTEL  ...  Jakarta Barat\n",
              "2                              MENARA PENINSULA  ...  Jakarta Barat\n",
              "3                HOTEL SANTIKA PREMIERE JAKARTA  ...  Jakarta Barat\n",
              "4                                    TWIN PLAZA  ...  Jakarta Barat\n",
              "..                                          ...  ...            ...\n",
              "421               HOLIDAY INN JAKARTA KEMAYORAN  ...  Jakarta Utara\n",
              "422  IBIS STYLE HOTEL MANGGA DUA SQUARE-JAKARTA  ...  Jakarta Utara\n",
              "423                       SANTIKA KELAPA GADING  ...  Jakarta Utara\n",
              "424                                 OZONE HOTEL  ...  Jakarta Utara\n",
              "425                                D'PRIMAHOTEL  ...  Jakarta Utara\n",
              "\n",
              "[426 rows x 6 columns]"
            ]
          },
          "metadata": {},
          "execution_count": 76
        }
      ]
    },
    {
      "cell_type": "code",
      "metadata": {
        "id": "V1ygBsceElbh",
        "colab": {
          "base_uri": "https://localhost:8080/"
        },
        "outputId": "f21a7838-049d-4bae-91c6-b0194921f127"
      },
      "source": [
        "hotel_pivot = hotel_stars.pivot_table(index=\"wilayah\", columns=\"golongan\",aggfunc='size', fill_value=0)\n",
        "hotel_pivot"
      ],
      "execution_count": null,
      "outputs": [
        {
          "output_type": "execute_result",
          "data": {
            "text/html": [
              "<div>\n",
              "<style scoped>\n",
              "    .dataframe tbody tr th:only-of-type {\n",
              "        vertical-align: middle;\n",
              "    }\n",
              "\n",
              "    .dataframe tbody tr th {\n",
              "        vertical-align: top;\n",
              "    }\n",
              "\n",
              "    .dataframe thead th {\n",
              "        text-align: right;\n",
              "    }\n",
              "</style>\n",
              "<table border=\"1\" class=\"dataframe\">\n",
              "  <thead>\n",
              "    <tr style=\"text-align: right;\">\n",
              "      <th>golongan</th>\n",
              "      <th>Bintang</th>\n",
              "      <th>Bintang 1</th>\n",
              "      <th>Bintang 2</th>\n",
              "      <th>Bintang 3</th>\n",
              "      <th>Bintang 4</th>\n",
              "      <th>Bintang 5</th>\n",
              "      <th>Hotel</th>\n",
              "      <th>Hunian Wisata</th>\n",
              "      <th>Melati</th>\n",
              "      <th>Melati 1</th>\n",
              "      <th>Melati 2</th>\n",
              "      <th>Melati 3</th>\n",
              "      <th>Melati 4</th>\n",
              "      <th>Motel</th>\n",
              "    </tr>\n",
              "    <tr>\n",
              "      <th>wilayah</th>\n",
              "      <th></th>\n",
              "      <th></th>\n",
              "      <th></th>\n",
              "      <th></th>\n",
              "      <th></th>\n",
              "      <th></th>\n",
              "      <th></th>\n",
              "      <th></th>\n",
              "      <th></th>\n",
              "      <th></th>\n",
              "      <th></th>\n",
              "      <th></th>\n",
              "      <th></th>\n",
              "      <th></th>\n",
              "    </tr>\n",
              "  </thead>\n",
              "  <tbody>\n",
              "    <tr>\n",
              "      <th>Jakarta Barat</th>\n",
              "      <td>18</td>\n",
              "      <td>1</td>\n",
              "      <td>6</td>\n",
              "      <td>7</td>\n",
              "      <td>8</td>\n",
              "      <td>0</td>\n",
              "      <td>2</td>\n",
              "      <td>0</td>\n",
              "      <td>7</td>\n",
              "      <td>0</td>\n",
              "      <td>10</td>\n",
              "      <td>28</td>\n",
              "      <td>1</td>\n",
              "      <td>5</td>\n",
              "    </tr>\n",
              "    <tr>\n",
              "      <th>Jakarta Pusat</th>\n",
              "      <td>29</td>\n",
              "      <td>10</td>\n",
              "      <td>14</td>\n",
              "      <td>20</td>\n",
              "      <td>14</td>\n",
              "      <td>14</td>\n",
              "      <td>0</td>\n",
              "      <td>4</td>\n",
              "      <td>7</td>\n",
              "      <td>0</td>\n",
              "      <td>11</td>\n",
              "      <td>38</td>\n",
              "      <td>0</td>\n",
              "      <td>0</td>\n",
              "    </tr>\n",
              "    <tr>\n",
              "      <th>Jakarta Selatan</th>\n",
              "      <td>21</td>\n",
              "      <td>3</td>\n",
              "      <td>1</td>\n",
              "      <td>5</td>\n",
              "      <td>6</td>\n",
              "      <td>10</td>\n",
              "      <td>3</td>\n",
              "      <td>20</td>\n",
              "      <td>8</td>\n",
              "      <td>1</td>\n",
              "      <td>2</td>\n",
              "      <td>11</td>\n",
              "      <td>0</td>\n",
              "      <td>1</td>\n",
              "    </tr>\n",
              "    <tr>\n",
              "      <th>Jakarta Timur</th>\n",
              "      <td>4</td>\n",
              "      <td>2</td>\n",
              "      <td>1</td>\n",
              "      <td>2</td>\n",
              "      <td>1</td>\n",
              "      <td>0</td>\n",
              "      <td>1</td>\n",
              "      <td>1</td>\n",
              "      <td>3</td>\n",
              "      <td>0</td>\n",
              "      <td>2</td>\n",
              "      <td>1</td>\n",
              "      <td>0</td>\n",
              "      <td>4</td>\n",
              "    </tr>\n",
              "    <tr>\n",
              "      <th>Jakarta Utara</th>\n",
              "      <td>17</td>\n",
              "      <td>1</td>\n",
              "      <td>2</td>\n",
              "      <td>6</td>\n",
              "      <td>5</td>\n",
              "      <td>0</td>\n",
              "      <td>1</td>\n",
              "      <td>4</td>\n",
              "      <td>3</td>\n",
              "      <td>0</td>\n",
              "      <td>4</td>\n",
              "      <td>11</td>\n",
              "      <td>0</td>\n",
              "      <td>4</td>\n",
              "    </tr>\n",
              "  </tbody>\n",
              "</table>\n",
              "</div>"
            ],
            "text/plain": [
              "golongan         Bintang  Bintang 1  Bintang 2  ...  Melati 3  Melati 4  Motel\n",
              "wilayah                                         ...                           \n",
              "Jakarta Barat         18          1          6  ...        28         1      5\n",
              "Jakarta Pusat         29         10         14  ...        38         0      0\n",
              "Jakarta Selatan       21          3          1  ...        11         0      1\n",
              "Jakarta Timur          4          2          1  ...         1         0      4\n",
              "Jakarta Utara         17          1          2  ...        11         0      4\n",
              "\n",
              "[5 rows x 14 columns]"
            ]
          },
          "metadata": {},
          "execution_count": 77
        }
      ]
    },
    {
      "cell_type": "code",
      "metadata": {
        "id": "lhsUBd0EElbm",
        "colab": {
          "base_uri": "https://localhost:8080/"
        },
        "outputId": "b7701d06-01e9-435c-c6fa-9f9f4f9e2883"
      },
      "source": [
        "mancanegara_jenis = mancanegara.pivot_table(index=\"wilayah\", columns=\"jenis\",aggfunc='size', fill_value=0)\n",
        "mancanegara_jenis"
      ],
      "execution_count": null,
      "outputs": [
        {
          "output_type": "execute_result",
          "data": {
            "text/html": [
              "<div>\n",
              "<style scoped>\n",
              "    .dataframe tbody tr th:only-of-type {\n",
              "        vertical-align: middle;\n",
              "    }\n",
              "\n",
              "    .dataframe tbody tr th {\n",
              "        vertical-align: top;\n",
              "    }\n",
              "\n",
              "    .dataframe thead th {\n",
              "        text-align: right;\n",
              "    }\n",
              "</style>\n",
              "<table border=\"1\" class=\"dataframe\">\n",
              "  <thead>\n",
              "    <tr style=\"text-align: right;\">\n",
              "      <th>jenis</th>\n",
              "      <th>Kawasan Historis</th>\n",
              "      <th>Kebun Binatang</th>\n",
              "      <th>Monumen</th>\n",
              "      <th>Museum</th>\n",
              "      <th>Pelabuhan</th>\n",
              "      <th>Planetarium</th>\n",
              "      <th>Pulau</th>\n",
              "      <th>Taman Wisata</th>\n",
              "    </tr>\n",
              "    <tr>\n",
              "      <th>wilayah</th>\n",
              "      <th></th>\n",
              "      <th></th>\n",
              "      <th></th>\n",
              "      <th></th>\n",
              "      <th></th>\n",
              "      <th></th>\n",
              "      <th></th>\n",
              "      <th></th>\n",
              "    </tr>\n",
              "  </thead>\n",
              "  <tbody>\n",
              "    <tr>\n",
              "      <th>Jakarta Barat</th>\n",
              "      <td>12</td>\n",
              "      <td>0</td>\n",
              "      <td>0</td>\n",
              "      <td>48</td>\n",
              "      <td>0</td>\n",
              "      <td>0</td>\n",
              "      <td>0</td>\n",
              "      <td>0</td>\n",
              "    </tr>\n",
              "    <tr>\n",
              "      <th>Jakarta Pusat</th>\n",
              "      <td>0</td>\n",
              "      <td>0</td>\n",
              "      <td>12</td>\n",
              "      <td>36</td>\n",
              "      <td>0</td>\n",
              "      <td>12</td>\n",
              "      <td>0</td>\n",
              "      <td>0</td>\n",
              "    </tr>\n",
              "    <tr>\n",
              "      <th>Jakarta Selatan</th>\n",
              "      <td>12</td>\n",
              "      <td>12</td>\n",
              "      <td>0</td>\n",
              "      <td>12</td>\n",
              "      <td>0</td>\n",
              "      <td>0</td>\n",
              "      <td>0</td>\n",
              "      <td>0</td>\n",
              "    </tr>\n",
              "    <tr>\n",
              "      <th>Jakarta Timur</th>\n",
              "      <td>0</td>\n",
              "      <td>0</td>\n",
              "      <td>0</td>\n",
              "      <td>0</td>\n",
              "      <td>0</td>\n",
              "      <td>0</td>\n",
              "      <td>0</td>\n",
              "      <td>12</td>\n",
              "    </tr>\n",
              "    <tr>\n",
              "      <th>Jakarta Utara</th>\n",
              "      <td>12</td>\n",
              "      <td>0</td>\n",
              "      <td>0</td>\n",
              "      <td>24</td>\n",
              "      <td>12</td>\n",
              "      <td>0</td>\n",
              "      <td>12</td>\n",
              "      <td>12</td>\n",
              "    </tr>\n",
              "  </tbody>\n",
              "</table>\n",
              "</div>"
            ],
            "text/plain": [
              "jenis            Kawasan Historis  Kebun Binatang  ...  Pulau  Taman Wisata\n",
              "wilayah                                            ...                     \n",
              "Jakarta Barat                  12               0  ...      0             0\n",
              "Jakarta Pusat                   0               0  ...      0             0\n",
              "Jakarta Selatan                12              12  ...      0             0\n",
              "Jakarta Timur                   0               0  ...      0            12\n",
              "Jakarta Utara                  12               0  ...     12            12\n",
              "\n",
              "[5 rows x 8 columns]"
            ]
          },
          "metadata": {},
          "execution_count": 78
        }
      ]
    },
    {
      "cell_type": "code",
      "metadata": {
        "colab": {
          "base_uri": "https://localhost:8080/",
          "height": 166
        },
        "id": "1hjS6knqpau0",
        "outputId": "b961355c-2d5f-4d4e-e117-b8b71d17b6d9"
      },
      "source": [
        "hotel_stars['jumlah_kamar'].mean()"
      ],
      "execution_count": null,
      "outputs": [
        {
          "output_type": "error",
          "ename": "NameError",
          "evalue": "ignored",
          "traceback": [
            "\u001b[0;31m---------------------------------------------------------------------------\u001b[0m",
            "\u001b[0;31mNameError\u001b[0m                                 Traceback (most recent call last)",
            "\u001b[0;32m<ipython-input-1-b53655620cc4>\u001b[0m in \u001b[0;36m<module>\u001b[0;34m()\u001b[0m\n\u001b[0;32m----> 1\u001b[0;31m \u001b[0mhotel_stars\u001b[0m\u001b[0;34m[\u001b[0m\u001b[0;34m'jumlah_kamar'\u001b[0m\u001b[0;34m]\u001b[0m\u001b[0;34m.\u001b[0m\u001b[0mmean\u001b[0m\u001b[0;34m(\u001b[0m\u001b[0;34m)\u001b[0m\u001b[0;34m\u001b[0m\u001b[0;34m\u001b[0m\u001b[0m\n\u001b[0m",
            "\u001b[0;31mNameError\u001b[0m: name 'hotel_stars' is not defined"
          ]
        }
      ]
    },
    {
      "cell_type": "markdown",
      "metadata": {
        "id": "LAIPLsHLElbr"
      },
      "source": [
        "## Banyaknya Jenis Wisata Pada Tiap Wilayah (belum ada insight)"
      ]
    },
    {
      "cell_type": "code",
      "metadata": {
        "scrolled": false,
        "id": "p8pEn1JeElbs",
        "colab": {
          "base_uri": "https://localhost:8080/"
        },
        "outputId": "49984a94-8241-47a9-9ce1-d7b0800a378c"
      },
      "source": [
        "sns.catplot(data=mancanegara, y=\"jenis\", row=\"wilayah\", kind=\"count\")\n",
        "plt.show()"
      ],
      "execution_count": null,
      "outputs": [
        {
          "output_type": "display_data",
          "data": {
            "image/png": "[encoded data removed]",
            "text/plain": [
              "<Figure size 360x1800 with 5 Axes>"
            ]
          },
          "metadata": {}
        }
      ]
    },
    {
      "cell_type": "markdown",
      "metadata": {
        "id": "pVi6Xby9Elb5"
      },
      "source": [
        "## Jenis Penginapan Berdasarkan Wilayah"
      ]
    },
    {
      "cell_type": "code",
      "metadata": {
        "scrolled": false,
        "id": "D92BO_lmElb6",
        "colab": {
          "base_uri": "https://localhost:8080/",
          "height": 1000
        },
        "outputId": "5c6fde03-a2ea-4ead-8c69-7f89453054e9"
      },
      "source": [
        "order = [\"Bintang 5\", \"Bintang 4\", \"Bintang 3\", \"Bintang 2\", \"Bintang 1\", \"Bintang\",\n",
        "         \"Melati 4\", \"Melati 3\", \"Melati 2\", \"Melati 1\", \"Melati\", \"Hotel\", \"Motel\", \"Hunian Wisata\"]\n",
        "\n",
        "sns.catplot(data=hotel_stars, y=\"golongan\", row=\"wilayah\", kind=\"count\", order=order, dodge=False)\n",
        "plt.show()"
      ],
      "execution_count": null,
      "outputs": [
        {
          "output_type": "display_data",
          "data": {
            "image/png": "[encoded data removed]",
            "text/plain": [
              "<Figure size 360x1800 with 5 Axes>"
            ]
          },
          "metadata": {}
        }
      ]
    },
    {
      "cell_type": "markdown",
      "metadata": {
        "id": "LVh3bLGS4oYs"
      },
      "source": [
        "Dari grafik sebelumnya, kita tahu bahwa **wisatawan mancanegara** lebih sering mengunjungi destinasi wisata di wilayah Jakarta Barat. Namun dapat kita lihat dari grafik di atas, bahwa wilayah Jakarta Barat masih belum memiliki banyak hotel berbintang.\n",
        "\n",
        "Sektor pariwisata di Jakarta Barat dapat dikembangkan lagi dengan memperbanyak hotel berbintang untuk wisatawan mancanegara.\n",
        "\n",
        "Sedangkan untuk wilayah Jakarta Timur dan Jakarta Utara, mungkin perlu diperbanyak hunian untuk wisatawan nusantara yang notabene berkelas mengengah kebawah."
      ]
    },
    {
      "cell_type": "code",
      "source": [
        "import numpy as np\n",
        "import matplotlib.pyplot as plt\n",
        "import matplotlib.colors\n",
        "from sympy import *\n",
        "from scipy.integrate import *\n",
        "from sympy import Function, dsolve, Derivative, symbols"
      ],
      "metadata": {
        "id": "HP16bhtz7uxX"
      },
      "execution_count": null,
      "outputs": []
    },
    {
      "cell_type": "code",
      "source": [
        "x = symbols('x')\n",
        "y = Function('y')(x)\n",
        "y_ = Derivative(y, x)\n",
        "problem = Eq((x**3)*y_ + 4*(x**2)*y, exp(-x))\n",
        "solution = dsolve(problem, y)\n",
        "constant = solve([Eq(solution.rhs.subs(x, -1), 0)])\n",
        "final_answer = solution.subs(constant)\n",
        "print(final_answer)"
      ],
      "metadata": {
        "colab": {
          "base_uri": "https://localhost:8080/"
        },
        "id": "8oTA4tgh7rcx",
        "outputId": "576799c6-6695-41c1-ae4f-caa7fa457512"
      },
      "execution_count": null,
      "outputs": [
        {
          "output_type": "stream",
          "name": "stdout",
          "text": [
            "Eq(y(x), (-exp(-x) - exp(-x)/x)/x**3)\n"
          ]
        }
      ]
    },
    {
      "cell_type": "markdown",
      "metadata": {
        "id": "WXXx8wws9H83"
      },
      "source": [
        "## Di bawah ini kotretan/draft"
      ]
    },
    {
      "cell_type": "code",
      "metadata": {
        "id": "_DnYho1HElb9",
        "colab": {
          "base_uri": "https://localhost:8080/"
        },
        "outputId": "b5fc36a1-8116-4663-f92d-7a0f58dddd68"
      },
      "source": [
        "hotel_stars['golongan'].unique()"
      ],
      "execution_count": null,
      "outputs": [
        {
          "output_type": "execute_result",
          "data": {
            "text/plain": [
              "array(['Bintang 4', 'Bintang 3', 'Bintang', 'Melati 3', 'Motel',\n",
              "       'Bintang 2', 'Bintang 1', 'Melati 2', 'Hotel', 'Melati',\n",
              "       'Melati 4', 'Bintang 5', 'Hunian Wisata', 'Melati 1'], dtype=object)"
            ]
          },
          "metadata": {},
          "execution_count": 81
        }
      ]
    },
    {
      "cell_type": "code",
      "metadata": {
        "id": "9SE3aBIIElb-",
        "colab": {
          "base_uri": "https://localhost:8080/"
        },
        "outputId": "45bb5024-9ab3-4360-f4a3-6c593fff6100"
      },
      "source": [
        "dest_global = mancanegara['destinasi_wisata'].unique()\n",
        "dest_global\n",
        "\n",
        "dest_local = nusantara['destinasi_wisata'].unique()\n",
        "dest_local"
      ],
      "execution_count": null,
      "outputs": [
        {
          "output_type": "execute_result",
          "data": {
            "text/plain": [
              "array(['Taman Impian Jaya Ancol', 'Taman Mini Indonesia Indah',\n",
              "       'Taman Margasatwa Ragunan', 'Monumen Nasional', 'Museum Nasional',\n",
              "       'Museum Satria Mandala', 'Museum Sejarah Jakarta',\n",
              "       'Museum Tekstil', 'Museum Bahari', 'Museum Seni Rupa dan Keramik',\n",
              "       'Museum Wayang', 'Museum Joang 45', 'Taman Arkeologi Onrust',\n",
              "       'Pelabuhan Sunda Kelapa', 'Kepulauan Seribu', 'PBB Setu babakan',\n",
              "       'Museum Prasasti', 'Planetarium', 'Rumah si Pitung',\n",
              "       'Kawasan Kota Tua', 'Museum Joang'], dtype=object)"
            ]
          },
          "metadata": {},
          "execution_count": 82
        }
      ]
    },
    {
      "cell_type": "markdown",
      "metadata": {
        "id": "Y5ALa27pElb_"
      },
      "source": [
        "## Data jumlah statistik wisata"
      ]
    },
    {
      "cell_type": "markdown",
      "metadata": {
        "id": "-GdtQ8YYXzeP"
      },
      "source": [
        "**IMPORTANT: Data banyak yg ga bener**"
      ]
    },
    {
      "cell_type": "code",
      "metadata": {
        "id": "MuTbd-_VElcA",
        "colab": {
          "base_uri": "https://localhost:8080/"
        },
        "outputId": "2926da6a-bfdf-4edf-a8c0-54d74095e91b"
      },
      "source": [
        "stat_2017 = pd.read_csv(\"data-jumlah-statistik-wisata-di-provinsi-dki-jakarta-tahun-2017.csv\")\n",
        "stat_2017"
      ],
      "execution_count": null,
      "outputs": [
        {
          "output_type": "execute_result",
          "data": {
            "text/html": [
              "<div>\n",
              "<style scoped>\n",
              "    .dataframe tbody tr th:only-of-type {\n",
              "        vertical-align: middle;\n",
              "    }\n",
              "\n",
              "    .dataframe tbody tr th {\n",
              "        vertical-align: top;\n",
              "    }\n",
              "\n",
              "    .dataframe thead th {\n",
              "        text-align: right;\n",
              "    }\n",
              "</style>\n",
              "<table border=\"1\" class=\"dataframe\">\n",
              "  <thead>\n",
              "    <tr style=\"text-align: right;\">\n",
              "      <th></th>\n",
              "      <th>tahun</th>\n",
              "      <th>indikator</th>\n",
              "      <th>jumlah</th>\n",
              "    </tr>\n",
              "  </thead>\n",
              "  <tbody>\n",
              "    <tr>\n",
              "      <th>0</th>\n",
              "      <td>2017</td>\n",
              "      <td>Jumlah Wisatawan Mancanegara</td>\n",
              "      <td>2658055</td>\n",
              "    </tr>\n",
              "    <tr>\n",
              "      <th>1</th>\n",
              "      <td>2017</td>\n",
              "      <td>Jumlah Wisatawan Nusantara</td>\n",
              "      <td>35464110</td>\n",
              "    </tr>\n",
              "    <tr>\n",
              "      <th>2</th>\n",
              "      <td>2017</td>\n",
              "      <td>Tingkat Penghunian Kamar Hotel Berbintang (%)</td>\n",
              "      <td>26</td>\n",
              "    </tr>\n",
              "    <tr>\n",
              "      <th>3</th>\n",
              "      <td>2017</td>\n",
              "      <td>Tingkat Penghunian Kamar Hotel Non Bintang (%)</td>\n",
              "      <td>5</td>\n",
              "    </tr>\n",
              "    <tr>\n",
              "      <th>4</th>\n",
              "      <td>2017</td>\n",
              "      <td>Rata-rata lama menginap wisatawan mancanegara ...</td>\n",
              "      <td>61</td>\n",
              "    </tr>\n",
              "    <tr>\n",
              "      <th>5</th>\n",
              "      <td>2017</td>\n",
              "      <td>Rata-rata lama menginap wisatawan nusantara (h...</td>\n",
              "      <td>91</td>\n",
              "    </tr>\n",
              "  </tbody>\n",
              "</table>\n",
              "</div>"
            ],
            "text/plain": [
              "   tahun                                          indikator    jumlah\n",
              "0   2017                      Jumlah Wisatawan Mancanegara    2658055\n",
              "1   2017                        Jumlah Wisatawan Nusantara   35464110\n",
              "2   2017      Tingkat Penghunian Kamar Hotel Berbintang (%)        26\n",
              "3   2017     Tingkat Penghunian Kamar Hotel Non Bintang (%)         5\n",
              "4   2017  Rata-rata lama menginap wisatawan mancanegara ...        61\n",
              "5   2017  Rata-rata lama menginap wisatawan nusantara (h...        91"
            ]
          },
          "metadata": {},
          "execution_count": 83
        }
      ]
    },
    {
      "cell_type": "markdown",
      "metadata": {
        "id": "wWGGFsqrX77f"
      },
      "source": [
        "Rata-rata 91 hari??"
      ]
    },
    {
      "cell_type": "code",
      "metadata": {
        "id": "pN1IkIuAElcB",
        "colab": {
          "base_uri": "https://localhost:8080/"
        },
        "outputId": "f64eddb9-531a-4ce3-e004-6f7a8612806e"
      },
      "source": [
        "stat_2018 = pd.read_csv(\"data-jumlah-statistik-wisata-di-provinsi-dki-jakarta-tahun-2018.csv\")\n",
        "stat_2018"
      ],
      "execution_count": null,
      "outputs": [
        {
          "output_type": "execute_result",
          "data": {
            "text/html": [
              "<div>\n",
              "<style scoped>\n",
              "    .dataframe tbody tr th:only-of-type {\n",
              "        vertical-align: middle;\n",
              "    }\n",
              "\n",
              "    .dataframe tbody tr th {\n",
              "        vertical-align: top;\n",
              "    }\n",
              "\n",
              "    .dataframe thead th {\n",
              "        text-align: right;\n",
              "    }\n",
              "</style>\n",
              "<table border=\"1\" class=\"dataframe\">\n",
              "  <thead>\n",
              "    <tr style=\"text-align: right;\">\n",
              "      <th></th>\n",
              "      <th>tahun</th>\n",
              "      <th>indikator</th>\n",
              "      <th>jumlah</th>\n",
              "    </tr>\n",
              "  </thead>\n",
              "  <tbody>\n",
              "    <tr>\n",
              "      <th>0</th>\n",
              "      <td>2018</td>\n",
              "      <td>Jumlah Wisatawan Mancanegara</td>\n",
              "      <td>2811956.00</td>\n",
              "    </tr>\n",
              "    <tr>\n",
              "      <th>1</th>\n",
              "      <td>2018</td>\n",
              "      <td>Jumlah Wisatawan Nusantara</td>\n",
              "      <td>34347982.00</td>\n",
              "    </tr>\n",
              "    <tr>\n",
              "      <th>2</th>\n",
              "      <td>2018</td>\n",
              "      <td>Tingkat Penghunian Kamar Hotel Berbintang (%)</td>\n",
              "      <td>6687.00</td>\n",
              "    </tr>\n",
              "    <tr>\n",
              "      <th>3</th>\n",
              "      <td>2018</td>\n",
              "      <td>Tingkat Penghunian Kamar Hotel Non Bintang (%)</td>\n",
              "      <td>NaN</td>\n",
              "    </tr>\n",
              "    <tr>\n",
              "      <th>4</th>\n",
              "      <td>2018</td>\n",
              "      <td>Rata-rata lama menginap wisatawan mancanegara ...</td>\n",
              "      <td>2.83</td>\n",
              "    </tr>\n",
              "    <tr>\n",
              "      <th>5</th>\n",
              "      <td>2018</td>\n",
              "      <td>Rata-rata lama menginap wisatawan nusantara (h...</td>\n",
              "      <td>2.40</td>\n",
              "    </tr>\n",
              "  </tbody>\n",
              "</table>\n",
              "</div>"
            ],
            "text/plain": [
              "   tahun                                          indikator       jumlah\n",
              "0   2018                      Jumlah Wisatawan Mancanegara    2811956.00\n",
              "1   2018                        Jumlah Wisatawan Nusantara   34347982.00\n",
              "2   2018      Tingkat Penghunian Kamar Hotel Berbintang (%)      6687.00\n",
              "3   2018     Tingkat Penghunian Kamar Hotel Non Bintang (%)          NaN\n",
              "4   2018  Rata-rata lama menginap wisatawan mancanegara ...         2.83\n",
              "5   2018  Rata-rata lama menginap wisatawan nusantara (h...         2.40"
            ]
          },
          "metadata": {},
          "execution_count": 84
        }
      ]
    },
    {
      "cell_type": "markdown",
      "metadata": {
        "id": "CQ-7J83bYCre"
      },
      "source": [
        "6687% ???"
      ]
    },
    {
      "cell_type": "code",
      "metadata": {
        "id": "v9fLojsXElcB",
        "colab": {
          "base_uri": "https://localhost:8080/"
        },
        "outputId": "cdd6fc4e-f125-4ffd-a1a5-e161a29b67fb"
      },
      "source": [
        "stat_2019 = pd.read_csv(\"data-jumlah-statistik-wisata-di-provinsi-dki-jakarta-tahun-2019.csv\")\n",
        "stat_2019"
      ],
      "execution_count": null,
      "outputs": [
        {
          "output_type": "execute_result",
          "data": {
            "text/html": [
              "<div>\n",
              "<style scoped>\n",
              "    .dataframe tbody tr th:only-of-type {\n",
              "        vertical-align: middle;\n",
              "    }\n",
              "\n",
              "    .dataframe tbody tr th {\n",
              "        vertical-align: top;\n",
              "    }\n",
              "\n",
              "    .dataframe thead th {\n",
              "        text-align: right;\n",
              "    }\n",
              "</style>\n",
              "<table border=\"1\" class=\"dataframe\">\n",
              "  <thead>\n",
              "    <tr style=\"text-align: right;\">\n",
              "      <th></th>\n",
              "      <th>tahun</th>\n",
              "      <th>indikator</th>\n",
              "      <th>jumlah</th>\n",
              "    </tr>\n",
              "  </thead>\n",
              "  <tbody>\n",
              "    <tr>\n",
              "      <th>0</th>\n",
              "      <td>2019</td>\n",
              "      <td>Jumlah Wisatawan Mancanegara</td>\n",
              "      <td>2466298.0</td>\n",
              "    </tr>\n",
              "    <tr>\n",
              "      <th>1</th>\n",
              "      <td>2019</td>\n",
              "      <td>Jumlah Wisatawan Nusantara</td>\n",
              "      <td>41640800.0</td>\n",
              "    </tr>\n",
              "    <tr>\n",
              "      <th>2</th>\n",
              "      <td>2019</td>\n",
              "      <td>Tingkat Penghunian Kamar Hotel Berbintang (%)</td>\n",
              "      <td>5763.0</td>\n",
              "    </tr>\n",
              "    <tr>\n",
              "      <th>3</th>\n",
              "      <td>2019</td>\n",
              "      <td>Tingkat Penghunian Kamar Hotel Non Bintang (%)</td>\n",
              "      <td>NaN</td>\n",
              "    </tr>\n",
              "    <tr>\n",
              "      <th>4</th>\n",
              "      <td>2019</td>\n",
              "      <td>Rata-rata lama menginap wisatawan mancanegara ...</td>\n",
              "      <td>282.0</td>\n",
              "    </tr>\n",
              "    <tr>\n",
              "      <th>5</th>\n",
              "      <td>2019</td>\n",
              "      <td>Rata-rata lama menginap wisatawan nusantara (h...</td>\n",
              "      <td>2.0</td>\n",
              "    </tr>\n",
              "  </tbody>\n",
              "</table>\n",
              "</div>"
            ],
            "text/plain": [
              "   tahun                                          indikator      jumlah\n",
              "0   2019                      Jumlah Wisatawan Mancanegara    2466298.0\n",
              "1   2019                        Jumlah Wisatawan Nusantara   41640800.0\n",
              "2   2019      Tingkat Penghunian Kamar Hotel Berbintang (%)      5763.0\n",
              "3   2019     Tingkat Penghunian Kamar Hotel Non Bintang (%)         NaN\n",
              "4   2019  Rata-rata lama menginap wisatawan mancanegara ...       282.0\n",
              "5   2019  Rata-rata lama menginap wisatawan nusantara (h...         2.0"
            ]
          },
          "metadata": {},
          "execution_count": 85
        }
      ]
    },
    {
      "cell_type": "markdown",
      "metadata": {
        "id": "nn9NqJTmYGsm"
      },
      "source": [
        "5763% ?? 282 hari??"
      ]
    },
    {
      "cell_type": "markdown",
      "metadata": {
        "id": "Fdnm5Q8oElcC"
      },
      "source": [
        "## Rata-rata lama menginap"
      ]
    },
    {
      "cell_type": "code",
      "metadata": {
        "id": "H-7DQhOfElcH",
        "colab": {
          "base_uri": "https://localhost:8080/"
        },
        "outputId": "04dd81d6-d672-499f-9648-1df4dd2e8549"
      },
      "source": [
        "avg_stay_2016 = pd.read_csv(\"data-rata-rata-lama-menginap-wisatawan-nusantara-di-hotel-berbintang-provinsi-dki-jakarta-tahun-2016.csv\")\n",
        "avg_stay_2016.groupby(\"jenis_hotel\")['jumlah'].agg(\"mean\")"
      ],
      "execution_count": null,
      "outputs": [
        {
          "output_type": "execute_result",
          "data": {
            "text/plain": [
              "jenis_hotel\n",
              "Bintang 1    29.700000\n",
              "Bintang 2    41.116667\n",
              "Bintang 3    39.916667\n",
              "Bintang 4    44.975000\n",
              "Bintang 5    53.291667\n",
              "Name: jumlah, dtype: float64"
            ]
          },
          "metadata": {},
          "execution_count": 86
        }
      ]
    },
    {
      "cell_type": "code",
      "metadata": {
        "id": "QdcwEP8IElcX",
        "colab": {
          "base_uri": "https://localhost:8080/"
        },
        "outputId": "ad4bec7d-cf9d-450f-a445-f72fe4de2ca9"
      },
      "source": [
        "avg_stay_2017 = pd.read_csv(\"data-rata-rata-lama-menginap-wisatawan-nusantara-di-hotel-berbintang-provinsi-dki-jakarta-tahun-2017.csv\")\n",
        "avg_stay_2017['jumlah'] = avg_stay_2017['jumlah'].str.replace(\",\", \".\").apply(pd.to_numeric)\n",
        "avg_stay_2017.groupby(\"jenis_hotel\")['jumlah'].agg(\"mean\")"
      ],
      "execution_count": null,
      "outputs": [
        {
          "output_type": "execute_result",
          "data": {
            "text/plain": [
              "jenis_hotel\n",
              "Bintang 1    37.558333\n",
              "Bintang 2    64.025000\n",
              "Bintang 3    51.033333\n",
              "Bintang 4    42.175000\n",
              "Bintang 5    64.150000\n",
              "Name: jumlah, dtype: float64"
            ]
          },
          "metadata": {},
          "execution_count": 87
        }
      ]
    },
    {
      "cell_type": "code",
      "metadata": {
        "id": "T_pA1darElcc",
        "colab": {
          "base_uri": "https://localhost:8080/"
        },
        "outputId": "d0b834df-c31c-405d-b04a-e5b494c2f098"
      },
      "source": [
        "avg_stay_2018 = pd.read_csv(\"data-rata-rata-lama-menginap-wisatawan-nusantara-di-hotel-berbintang-provinsi-dki-jakarta-tahun-2018.csv\")\n",
        "avg_stay_2018['jumlah'] = avg_stay_2018['jumlah'].str.replace(\",\", \".\").apply(pd.to_numeric)\n",
        "avg_stay_2018.groupby(\"jenis_hotel\")['jumlah'].agg(\"mean\")"
      ],
      "execution_count": null,
      "outputs": [
        {
          "output_type": "execute_result",
          "data": {
            "text/plain": [
              "jenis_hotel\n",
              "Bintang 1    1.668333\n",
              "Bintang 2    1.873417\n",
              "Bintang 3    2.242500\n",
              "Bintang 4    2.039167\n",
              "Bintang 5    1.895000\n",
              "Name: jumlah, dtype: float64"
            ]
          },
          "metadata": {},
          "execution_count": 88
        }
      ]
    },
    {
      "cell_type": "markdown",
      "metadata": {
        "id": "jES8xhIAElcc"
      },
      "source": [
        "## Data event"
      ]
    },
    {
      "cell_type": "code",
      "metadata": {
        "id": "uxevZbRWElcd",
        "colab": {
          "base_uri": "https://localhost:8080/"
        },
        "outputId": "2bf5f517-6b12-4f62-bfe6-e0d37a4bfbdd"
      },
      "source": [
        "event_2016 = pd.read_csv(\"data-kategori-event-di-dki-jakarta-tahun-2016.csv\")\n",
        "event_2016['jumlah'].sum()"
      ],
      "execution_count": null,
      "outputs": [
        {
          "output_type": "execute_result",
          "data": {
            "text/plain": [
              "325"
            ]
          },
          "metadata": {},
          "execution_count": 89
        }
      ]
    },
    {
      "cell_type": "code",
      "metadata": {
        "id": "3Io-Q4JeElce",
        "colab": {
          "base_uri": "https://localhost:8080/"
        },
        "outputId": "8ce26937-f2b8-4b20-a0b6-cc854798ef1f"
      },
      "source": [
        "event_2017 = pd.read_csv(\"data-kategori-event-di-dki-jakarta-tahun-2017.csv\")\n",
        "event_2017['jumlah'].sum()"
      ],
      "execution_count": null,
      "outputs": [
        {
          "output_type": "execute_result",
          "data": {
            "text/plain": [
              "169"
            ]
          },
          "metadata": {},
          "execution_count": 90
        }
      ]
    },
    {
      "cell_type": "code",
      "metadata": {
        "id": "2U-Lmi__Elc7",
        "colab": {
          "base_uri": "https://localhost:8080/"
        },
        "outputId": "0dd07202-4948-42e5-a695-79b4ac9bde1e"
      },
      "source": [
        "event_2018 = pd.read_csv(\"data-kategori-event-di-dki-jakarta-tahun-2018.csv\")\n",
        "event_2018['jumlah'].sum()"
      ],
      "execution_count": null,
      "outputs": [
        {
          "output_type": "execute_result",
          "data": {
            "text/plain": [
              "530"
            ]
          },
          "metadata": {},
          "execution_count": 91
        }
      ]
    },
    {
      "cell_type": "code",
      "metadata": {
        "id": "fwCkZ5vXElc8",
        "colab": {
          "base_uri": "https://localhost:8080/"
        },
        "outputId": "568d426e-d08d-4023-e115-efcb77ef1184"
      },
      "source": [
        "event_2019 = pd.read_csv(\"data-kategori-event-di-dki-jakarta-tahun-2019.csv\")\n",
        "event_2019['jumlah'].sum()"
      ],
      "execution_count": null,
      "outputs": [
        {
          "output_type": "execute_result",
          "data": {
            "text/plain": [
              "243"
            ]
          },
          "metadata": {},
          "execution_count": 92
        }
      ]
    },
    {
      "cell_type": "code",
      "metadata": {
        "id": "grCZQaaPElc9"
      },
      "source": [
        "usaha_2019 = pd.read_csv(\"data-jumlah-usaha-jasa-pariwisata-tahun-2018.csv\")"
      ],
      "execution_count": null,
      "outputs": []
    },
    {
      "cell_type": "code",
      "metadata": {
        "id": "b4lOBHMHElc9",
        "colab": {
          "base_uri": "https://localhost:8080/"
        },
        "outputId": "40f41f09-0894-4da0-d787-073ed4db45e0"
      },
      "source": [
        "usaha_2019.drop([\"Unnamed: 4\", \"Unnamed: 5\"], axis=1).dropna()"
      ],
      "execution_count": null,
      "outputs": [
        {
          "output_type": "execute_result",
          "data": {
            "text/html": [
              "<div>\n",
              "<style scoped>\n",
              "    .dataframe tbody tr th:only-of-type {\n",
              "        vertical-align: middle;\n",
              "    }\n",
              "\n",
              "    .dataframe tbody tr th {\n",
              "        vertical-align: top;\n",
              "    }\n",
              "\n",
              "    .dataframe thead th {\n",
              "        text-align: right;\n",
              "    }\n",
              "</style>\n",
              "<table border=\"1\" class=\"dataframe\">\n",
              "  <thead>\n",
              "    <tr style=\"text-align: right;\">\n",
              "      <th></th>\n",
              "      <th>tahun</th>\n",
              "      <th>jenis_usaha</th>\n",
              "      <th>usaha_perjalanan_wisata</th>\n",
              "      <th>jumlah</th>\n",
              "    </tr>\n",
              "  </thead>\n",
              "  <tbody>\n",
              "    <tr>\n",
              "      <th>0</th>\n",
              "      <td>2018.0</td>\n",
              "      <td>USAHA PERJALANAN WISATA</td>\n",
              "      <td>BIRO PERJALANAN WISATA</td>\n",
              "      <td>2763.0</td>\n",
              "    </tr>\n",
              "    <tr>\n",
              "      <th>1</th>\n",
              "      <td>2018.0</td>\n",
              "      <td>USAHA PERJALANAN WISATA</td>\n",
              "      <td>CABANG BIRO PERJALANAN WISATA</td>\n",
              "      <td>318.0</td>\n",
              "    </tr>\n",
              "    <tr>\n",
              "      <th>2</th>\n",
              "      <td>2018.0</td>\n",
              "      <td>USAHA PERJALANAN WISATA</td>\n",
              "      <td>AGENT PERJALANAN WISATA</td>\n",
              "      <td>177.0</td>\n",
              "    </tr>\n",
              "    <tr>\n",
              "      <th>3</th>\n",
              "      <td>2018.0</td>\n",
              "      <td>USAHA PERJALANAN WISATA</td>\n",
              "      <td>GERAI JUAL / SALES COUNTER</td>\n",
              "      <td>28.0</td>\n",
              "    </tr>\n",
              "    <tr>\n",
              "      <th>4</th>\n",
              "      <td>2018.0</td>\n",
              "      <td>USAHA PERJALANAN WISATA</td>\n",
              "      <td>WISATA TIRTA</td>\n",
              "      <td>6.0</td>\n",
              "    </tr>\n",
              "    <tr>\n",
              "      <th>5</th>\n",
              "      <td>2018.0</td>\n",
              "      <td>KONVENSI &amp; IMPRESARIAT</td>\n",
              "      <td>KONVENSI, PERJALANAN INSENTIF DAN PAMERAN (MICE)</td>\n",
              "      <td>652.0</td>\n",
              "    </tr>\n",
              "    <tr>\n",
              "      <th>6</th>\n",
              "      <td>2018.0</td>\n",
              "      <td>KONVENSI &amp; IMPRESARIAT</td>\n",
              "      <td>IMPRESARIAT</td>\n",
              "      <td>216.0</td>\n",
              "    </tr>\n",
              "    <tr>\n",
              "      <th>7</th>\n",
              "      <td>2018.0</td>\n",
              "      <td>KONVENSI &amp; IMPRESARIAT</td>\n",
              "      <td>BALAI PERTEMUAN</td>\n",
              "      <td>43.0</td>\n",
              "    </tr>\n",
              "    <tr>\n",
              "      <th>8</th>\n",
              "      <td>2018.0</td>\n",
              "      <td>KONVENSI &amp; IMPRESARIAT</td>\n",
              "      <td>KONSULTAN PARIWISATA</td>\n",
              "      <td>20.0</td>\n",
              "    </tr>\n",
              "    <tr>\n",
              "      <th>9</th>\n",
              "      <td>2018.0</td>\n",
              "      <td>KONVENSI &amp; IMPRESARIAT</td>\n",
              "      <td>INFORMASI PARIWISATA</td>\n",
              "      <td>3.0</td>\n",
              "    </tr>\n",
              "    <tr>\n",
              "      <th>10</th>\n",
              "      <td>2018.0</td>\n",
              "      <td>KONVENSI &amp; IMPRESARIAT</td>\n",
              "      <td>MANAJEMEN HOTEL</td>\n",
              "      <td>30.0</td>\n",
              "    </tr>\n",
              "  </tbody>\n",
              "</table>\n",
              "</div>"
            ],
            "text/plain": [
              "     tahun  ...  jumlah\n",
              "0   2018.0  ...  2763.0\n",
              "1   2018.0  ...   318.0\n",
              "2   2018.0  ...   177.0\n",
              "3   2018.0  ...    28.0\n",
              "4   2018.0  ...     6.0\n",
              "5   2018.0  ...   652.0\n",
              "6   2018.0  ...   216.0\n",
              "7   2018.0  ...    43.0\n",
              "8   2018.0  ...    20.0\n",
              "9   2018.0  ...     3.0\n",
              "10  2018.0  ...    30.0\n",
              "\n",
              "[11 rows x 4 columns]"
            ]
          },
          "metadata": {},
          "execution_count": 94
        }
      ]
    },
    {
      "cell_type": "code",
      "metadata": {
        "id": "4VbT1fyWElc-",
        "colab": {
          "base_uri": "https://localhost:8080/"
        },
        "outputId": "8af16095-79d0-4cd5-8f6d-c0909326d29a"
      },
      "source": [
        "to_dki = pd.read_csv(\"data-kunjungan-wisatawan-mancanegara-ke-provinsi-dki-jakarta-bulan-januari-tahun-2020-melalui-2-pintu-masuk.csv\")\n",
        "to_dki"
      ],
      "execution_count": null,
      "outputs": [
        {
          "output_type": "execute_result",
          "data": {
            "text/html": [
              "<div>\n",
              "<style scoped>\n",
              "    .dataframe tbody tr th:only-of-type {\n",
              "        vertical-align: middle;\n",
              "    }\n",
              "\n",
              "    .dataframe tbody tr th {\n",
              "        vertical-align: top;\n",
              "    }\n",
              "\n",
              "    .dataframe thead th {\n",
              "        text-align: right;\n",
              "    }\n",
              "</style>\n",
              "<table border=\"1\" class=\"dataframe\">\n",
              "  <thead>\n",
              "    <tr style=\"text-align: right;\">\n",
              "      <th></th>\n",
              "      <th>tahun</th>\n",
              "      <th>bulan</th>\n",
              "      <th>kedatangan_wisata_mancanegara</th>\n",
              "      <th>jumlah</th>\n",
              "    </tr>\n",
              "  </thead>\n",
              "  <tbody>\n",
              "    <tr>\n",
              "      <th>0</th>\n",
              "      <td>2020</td>\n",
              "      <td>1</td>\n",
              "      <td>Bandara Soekarno-Hatta</td>\n",
              "      <td>173453</td>\n",
              "    </tr>\n",
              "    <tr>\n",
              "      <th>1</th>\n",
              "      <td>2020</td>\n",
              "      <td>1</td>\n",
              "      <td>Bandara Halim PK</td>\n",
              "      <td>161</td>\n",
              "    </tr>\n",
              "  </tbody>\n",
              "</table>\n",
              "</div>"
            ],
            "text/plain": [
              "   tahun  bulan kedatangan_wisata_mancanegara  jumlah\n",
              "0   2020      1        Bandara Soekarno-Hatta  173453\n",
              "1   2020      1              Bandara Halim PK     161"
            ]
          },
          "metadata": {},
          "execution_count": 95
        }
      ]
    },
    {
      "cell_type": "code",
      "metadata": {
        "id": "DKXe9t-yElc_"
      },
      "source": [
        ""
      ],
      "execution_count": null,
      "outputs": []
    },
    {
      "cell_type": "code",
      "metadata": {
        "id": "0qC6b7in2yK5"
      },
      "source": [
        ""
      ],
      "execution_count": null,
      "outputs": []
    }
  ]
}